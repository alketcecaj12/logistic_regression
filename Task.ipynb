{
 "cells": [
  {
   "cell_type": "code",
   "execution_count": 252,
   "metadata": {},
   "outputs": [],
   "source": [
    "import random\n",
    "import timeit"
   ]
  },
  {
   "cell_type": "code",
   "execution_count": 253,
   "metadata": {},
   "outputs": [],
   "source": [
    "basket = {'apple':7, 'banana':3, 'orange':5}"
   ]
  },
  {
   "cell_type": "code",
   "execution_count": 254,
   "metadata": {},
   "outputs": [],
   "source": [
    "def pick_fruit(fruits):\n",
    "\n",
    "    # this way the probabilities will add up to 1\n",
    "    s = sum([fruits[a] for a in fruits])\n",
    "    d = {}\n",
    "    for a, b in fruits.items():\n",
    "        d[a] = b/s\n",
    "    r = random.random()\n",
    "    for a,b in d.items():\n",
    "        if r < b:\n",
    "            return a\n",
    "        else:\n",
    "            r -= b"
   ]
  },
  {
   "cell_type": "code",
   "execution_count": 255,
   "metadata": {},
   "outputs": [
    {
     "name": "stdout",
     "output_type": "stream",
     "text": [
      "apple : times picked =  443 , prob = 44.3 %\n",
      "banana : times picked =  199 , prob = 19.9 %\n",
      "orange : times picked =  358 , prob = 35.8 %\n",
      "Time processing :  0.002663491992279887\n"
     ]
    }
   ],
   "source": [
    "# testing the function\n",
    "result = {'apple':0, 'banana':0, 'orange':0} \n",
    "\n",
    "# check the processing time\n",
    "start = timeit.default_timer()\n",
    "\n",
    "# simulate a thousand pickings \n",
    "for i in range(1000):\n",
    "    fruit_i = pick_fruit(basket)\n",
    "    result[fruit_i] += 1\n",
    "    \n",
    "for k,v in result.items():\n",
    "    print(k+str(' : times picked = '), v, ', prob = '+str(result[k]/10)+' %')\n",
    "\n",
    "stop = timeit.default_timer()\n",
    "\n",
    "print('Time processing : ', stop - start) "
   ]
  },
  {
   "cell_type": "code",
   "execution_count": null,
   "metadata": {},
   "outputs": [],
   "source": []
  },
  {
   "cell_type": "code",
   "execution_count": null,
   "metadata": {},
   "outputs": [],
   "source": []
  }
 ],
 "metadata": {
  "kernelspec": {
   "display_name": "Python 3",
   "language": "python",
   "name": "python3"
  },
  "language_info": {
   "codemirror_mode": {
    "name": "ipython",
    "version": 3
   },
   "file_extension": ".py",
   "mimetype": "text/x-python",
   "name": "python",
   "nbconvert_exporter": "python",
   "pygments_lexer": "ipython3",
   "version": "3.7.2"
  }
 },
 "nbformat": 4,
 "nbformat_minor": 2
}
